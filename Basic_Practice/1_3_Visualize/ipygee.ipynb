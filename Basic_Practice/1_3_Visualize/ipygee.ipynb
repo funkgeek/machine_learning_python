{
 "cells": [
  {
   "cell_type": "markdown",
   "metadata": {},
   "source": [
    "# Map"
   ]
  },
  {
   "cell_type": "code",
   "execution_count": 3,
   "metadata": {},
   "outputs": [
    {
     "name": "stdout",
     "output_type": "stream",
     "text": [
      "Requirement already satisfied: ipygee in d:\\program\\python\\lib\\site-packages (0.0.14)\n",
      "Requirement already satisfied: pandas in d:\\program\\python\\lib\\site-packages (from ipygee) (1.0.1)\n",
      "Requirement already satisfied: ipyleaflet>=0.10.2 in d:\\program\\python\\lib\\site-packages (from ipygee) (0.12.3)\n",
      "Requirement already satisfied: pygal in d:\\program\\python\\lib\\site-packages (from ipygee) (2.4.0)\n",
      "Requirement already satisfied: geetools in d:\\program\\python\\lib\\site-packages (from ipygee) (0.4.15)\n",
      "Requirement already satisfied: pytz>=2017.2 in d:\\program\\python\\lib\\site-packages (from pandas->ipygee) (2019.3)\n",
      "Requirement already satisfied: numpy>=1.13.3 in d:\\program\\python\\lib\\site-packages (from pandas->ipygee) (1.18.1)\n",
      "Requirement already satisfied: python-dateutil>=2.6.1 in d:\\program\\python\\lib\\site-packages (from pandas->ipygee) (2.8.1)\n",
      "Requirement already satisfied: ipywidgets<8,>=7.5.0 in d:\\program\\python\\lib\\site-packages (from ipyleaflet>=0.10.2->ipygee) (7.5.1)\n",
      "Requirement already satisfied: branca<0.4,>=0.3.1 in d:\\program\\python\\lib\\site-packages (from ipyleaflet>=0.10.2->ipygee) (0.3.1)\n",
      "Requirement already satisfied: traittypes<3,>=0.2.1 in d:\\program\\python\\lib\\site-packages (from ipyleaflet>=0.10.2->ipygee) (0.2.1)\n",
      "Requirement already satisfied: xarray>=0.10 in d:\\program\\python\\lib\\site-packages (from ipyleaflet>=0.10.2->ipygee) (0.15.0)\n",
      "Requirement already satisfied: requests in d:\\program\\python\\lib\\site-packages (from geetools->ipygee) (2.23.0)\n",
      "Requirement already satisfied: pyshp in d:\\program\\python\\lib\\site-packages (from geetools->ipygee) (2.1.0)\n",
      "Requirement already satisfied: Pillow in d:\\program\\python\\lib\\site-packages (from geetools->ipygee) (7.0.0)\n",
      "Requirement already satisfied: six>=1.5 in d:\\program\\python\\lib\\site-packages (from python-dateutil>=2.6.1->pandas->ipygee) (1.14.0)\n",
      "Requirement already satisfied: widgetsnbextension~=3.5.0 in d:\\program\\python\\lib\\site-packages (from ipywidgets<8,>=7.5.0->ipyleaflet>=0.10.2->ipygee) (3.5.1)\n",
      "Requirement already satisfied: ipython>=4.0.0; python_version >= \"3.3\" in d:\\program\\python\\lib\\site-packages (from ipywidgets<8,>=7.5.0->ipyleaflet>=0.10.2->ipygee) (7.13.0)\n",
      "Requirement already satisfied: nbformat>=4.2.0 in d:\\program\\python\\lib\\site-packages (from ipywidgets<8,>=7.5.0->ipyleaflet>=0.10.2->ipygee) (5.0.4)\n",
      "Requirement already satisfied: traitlets>=4.3.1 in d:\\program\\python\\lib\\site-packages (from ipywidgets<8,>=7.5.0->ipyleaflet>=0.10.2->ipygee) (4.3.3)\n",
      "Requirement already satisfied: ipykernel>=4.5.1 in d:\\program\\python\\lib\\site-packages (from ipywidgets<8,>=7.5.0->ipyleaflet>=0.10.2->ipygee) (5.1.4)\n",
      "Requirement already satisfied: jinja2 in d:\\program\\python\\lib\\site-packages (from branca<0.4,>=0.3.1->ipyleaflet>=0.10.2->ipygee) (2.11.1)\n",
      "Requirement already satisfied: urllib3!=1.25.0,!=1.25.1,<1.26,>=1.21.1 in d:\\program\\python\\lib\\site-packages (from requests->geetools->ipygee) (1.25.8)\n",
      "Requirement already satisfied: chardet<4,>=3.0.2 in d:\\program\\python\\lib\\site-packages (from requests->geetools->ipygee) (3.0.4)\n",
      "Requirement already satisfied: certifi>=2017.4.17 in d:\\program\\python\\lib\\site-packages (from requests->geetools->ipygee) (2019.11.28)\n",
      "Requirement already satisfied: idna<3,>=2.5 in d:\\program\\python\\lib\\site-packages (from requests->geetools->ipygee) (2.9)\n",
      "Requirement already satisfied: notebook>=4.4.1 in d:\\program\\python\\lib\\site-packages (from widgetsnbextension~=3.5.0->ipywidgets<8,>=7.5.0->ipyleaflet>=0.10.2->ipygee) (6.0.3)\n",
      "Requirement already satisfied: pygments in d:\\program\\python\\lib\\site-packages (from ipython>=4.0.0; python_version >= \"3.3\"->ipywidgets<8,>=7.5.0->ipyleaflet>=0.10.2->ipygee) (2.6.1)\n",
      "Requirement already satisfied: prompt-toolkit!=3.0.0,!=3.0.1,<3.1.0,>=2.0.0 in d:\\program\\python\\lib\\site-packages (from ipython>=4.0.0; python_version >= \"3.3\"->ipywidgets<8,>=7.5.0->ipyleaflet>=0.10.2->ipygee) (3.0.4)\n",
      "Requirement already satisfied: pickleshare in d:\\program\\python\\lib\\site-packages (from ipython>=4.0.0; python_version >= \"3.3\"->ipywidgets<8,>=7.5.0->ipyleaflet>=0.10.2->ipygee) (0.7.5)\n",
      "Requirement already satisfied: jedi>=0.10 in d:\\program\\python\\lib\\site-packages (from ipython>=4.0.0; python_version >= \"3.3\"->ipywidgets<8,>=7.5.0->ipyleaflet>=0.10.2->ipygee) (0.16.0)\n",
      "Requirement already satisfied: backcall in d:\\program\\python\\lib\\site-packages (from ipython>=4.0.0; python_version >= \"3.3\"->ipywidgets<8,>=7.5.0->ipyleaflet>=0.10.2->ipygee) (0.1.0)\n",
      "Requirement already satisfied: decorator in d:\\program\\python\\lib\\site-packages (from ipython>=4.0.0; python_version >= \"3.3\"->ipywidgets<8,>=7.5.0->ipyleaflet>=0.10.2->ipygee) (4.4.2)\n",
      "Requirement already satisfied: setuptools>=18.5 in d:\\program\\python\\lib\\site-packages (from ipython>=4.0.0; python_version >= \"3.3\"->ipywidgets<8,>=7.5.0->ipyleaflet>=0.10.2->ipygee) (41.2.0)\n",
      "Requirement already satisfied: colorama; sys_platform == \"win32\" in d:\\program\\python\\lib\\site-packages (from ipython>=4.0.0; python_version >= \"3.3\"->ipywidgets<8,>=7.5.0->ipyleaflet>=0.10.2->ipygee) (0.4.3)\n",
      "Requirement already satisfied: jupyter-core in d:\\program\\python\\lib\\site-packages (from nbformat>=4.2.0->ipywidgets<8,>=7.5.0->ipyleaflet>=0.10.2->ipygee) (4.6.3)\n",
      "Requirement already satisfied: ipython-genutils in d:\\program\\python\\lib\\site-packages (from nbformat>=4.2.0->ipywidgets<8,>=7.5.0->ipyleaflet>=0.10.2->ipygee) (0.2.0)\n",
      "Requirement already satisfied: jsonschema!=2.5.0,>=2.4 in d:\\program\\python\\lib\\site-packages (from nbformat>=4.2.0->ipywidgets<8,>=7.5.0->ipyleaflet>=0.10.2->ipygee) (3.2.0)\n",
      "Requirement already satisfied: jupyter-client in d:\\program\\python\\lib\\site-packages (from ipykernel>=4.5.1->ipywidgets<8,>=7.5.0->ipyleaflet>=0.10.2->ipygee) (6.0.0)\n",
      "Requirement already satisfied: tornado>=4.2 in d:\\program\\python\\lib\\site-packages (from ipykernel>=4.5.1->ipywidgets<8,>=7.5.0->ipyleaflet>=0.10.2->ipygee) (6.0.4)\n",
      "Requirement already satisfied: MarkupSafe>=0.23 in d:\\program\\python\\lib\\site-packages (from jinja2->branca<0.4,>=0.3.1->ipyleaflet>=0.10.2->ipygee) (1.1.1)\n",
      "Requirement already satisfied: Send2Trash in d:\\program\\python\\lib\\site-packages (from notebook>=4.4.1->widgetsnbextension~=3.5.0->ipywidgets<8,>=7.5.0->ipyleaflet>=0.10.2->ipygee) (1.5.0)\n",
      "Requirement already satisfied: terminado>=0.8.1 in d:\\program\\python\\lib\\site-packages (from notebook>=4.4.1->widgetsnbextension~=3.5.0->ipywidgets<8,>=7.5.0->ipyleaflet>=0.10.2->ipygee) (0.8.3)\n",
      "Requirement already satisfied: nbconvert in d:\\program\\python\\lib\\site-packages (from notebook>=4.4.1->widgetsnbextension~=3.5.0->ipywidgets<8,>=7.5.0->ipyleaflet>=0.10.2->ipygee) (5.6.1)\n",
      "Requirement already satisfied: pyzmq>=17 in d:\\program\\python\\lib\\site-packages (from notebook>=4.4.1->widgetsnbextension~=3.5.0->ipywidgets<8,>=7.5.0->ipyleaflet>=0.10.2->ipygee) (19.0.0)\n",
      "Requirement already satisfied: prometheus-client in d:\\program\\python\\lib\\site-packages (from notebook>=4.4.1->widgetsnbextension~=3.5.0->ipywidgets<8,>=7.5.0->ipyleaflet>=0.10.2->ipygee) (0.7.1)\n",
      "Requirement already satisfied: wcwidth in d:\\program\\python\\lib\\site-packages (from prompt-toolkit!=3.0.0,!=3.0.1,<3.1.0,>=2.0.0->ipython>=4.0.0; python_version >= \"3.3\"->ipywidgets<8,>=7.5.0->ipyleaflet>=0.10.2->ipygee) (0.1.8)\n",
      "Requirement already satisfied: parso>=0.5.2 in d:\\program\\python\\lib\\site-packages (from jedi>=0.10->ipython>=4.0.0; python_version >= \"3.3\"->ipywidgets<8,>=7.5.0->ipyleaflet>=0.10.2->ipygee) (0.6.2)\n",
      "Requirement already satisfied: pywin32>=1.0; sys_platform == \"win32\" in d:\\program\\python\\lib\\site-packages (from jupyter-core->nbformat>=4.2.0->ipywidgets<8,>=7.5.0->ipyleaflet>=0.10.2->ipygee) (227)\n",
      "Requirement already satisfied: pyrsistent>=0.14.0 in d:\\program\\python\\lib\\site-packages (from jsonschema!=2.5.0,>=2.4->nbformat>=4.2.0->ipywidgets<8,>=7.5.0->ipyleaflet>=0.10.2->ipygee) (0.15.7)\n",
      "Requirement already satisfied: importlib-metadata; python_version < \"3.8\" in d:\\program\\python\\lib\\site-packages (from jsonschema!=2.5.0,>=2.4->nbformat>=4.2.0->ipywidgets<8,>=7.5.0->ipyleaflet>=0.10.2->ipygee) (1.5.0)\n",
      "Requirement already satisfied: attrs>=17.4.0 in d:\\program\\python\\lib\\site-packages (from jsonschema!=2.5.0,>=2.4->nbformat>=4.2.0->ipywidgets<8,>=7.5.0->ipyleaflet>=0.10.2->ipygee) (19.3.0)\n",
      "Requirement already satisfied: pywinpty>=0.5; os_name == \"nt\" in d:\\program\\python\\lib\\site-packages (from terminado>=0.8.1->notebook>=4.4.1->widgetsnbextension~=3.5.0->ipywidgets<8,>=7.5.0->ipyleaflet>=0.10.2->ipygee) (0.5.7)\n",
      "Requirement already satisfied: mistune<2,>=0.8.1 in d:\\program\\python\\lib\\site-packages (from nbconvert->notebook>=4.4.1->widgetsnbextension~=3.5.0->ipywidgets<8,>=7.5.0->ipyleaflet>=0.10.2->ipygee) (0.8.4)\n",
      "Requirement already satisfied: bleach in d:\\program\\python\\lib\\site-packages (from nbconvert->notebook>=4.4.1->widgetsnbextension~=3.5.0->ipywidgets<8,>=7.5.0->ipyleaflet>=0.10.2->ipygee) (3.1.1)\n",
      "Requirement already satisfied: testpath in d:\\program\\python\\lib\\site-packages (from nbconvert->notebook>=4.4.1->widgetsnbextension~=3.5.0->ipywidgets<8,>=7.5.0->ipyleaflet>=0.10.2->ipygee) (0.4.4)\n",
      "Requirement already satisfied: defusedxml in d:\\program\\python\\lib\\site-packages (from nbconvert->notebook>=4.4.1->widgetsnbextension~=3.5.0->ipywidgets<8,>=7.5.0->ipyleaflet>=0.10.2->ipygee) (0.6.0)\n",
      "Requirement already satisfied: entrypoints>=0.2.2 in d:\\program\\python\\lib\\site-packages (from nbconvert->notebook>=4.4.1->widgetsnbextension~=3.5.0->ipywidgets<8,>=7.5.0->ipyleaflet>=0.10.2->ipygee) (0.3)\n",
      "Requirement already satisfied: pandocfilters>=1.4.1 in d:\\program\\python\\lib\\site-packages (from nbconvert->notebook>=4.4.1->widgetsnbextension~=3.5.0->ipywidgets<8,>=7.5.0->ipyleaflet>=0.10.2->ipygee) (1.4.2)\n",
      "Requirement already satisfied: zipp>=0.5 in d:\\program\\python\\lib\\site-packages (from importlib-metadata; python_version < \"3.8\"->jsonschema!=2.5.0,>=2.4->nbformat>=4.2.0->ipywidgets<8,>=7.5.0->ipyleaflet>=0.10.2->ipygee) (3.1.0)\n",
      "Requirement already satisfied: webencodings in d:\\program\\python\\lib\\site-packages (from bleach->nbconvert->notebook>=4.4.1->widgetsnbextension~=3.5.0->ipywidgets<8,>=7.5.0->ipyleaflet>=0.10.2->ipygee) (0.5.1)\n"
     ]
    }
   ],
   "source": [
    "!pip install ipygee"
   ]
  },
  {
   "cell_type": "code",
   "execution_count": 8,
   "metadata": {},
   "outputs": [
    {
     "ename": "ModuleNotFoundError",
     "evalue": "No module named 'ee'",
     "output_type": "error",
     "traceback": [
      "\u001b[1;31m---------------------------------------------------------------------------\u001b[0m",
      "\u001b[1;31mModuleNotFoundError\u001b[0m                       Traceback (most recent call last)",
      "\u001b[1;32m<ipython-input-8-087018c01687>\u001b[0m in \u001b[0;36m<module>\u001b[1;34m\u001b[0m\n\u001b[1;32m----> 1\u001b[1;33m \u001b[1;32mimport\u001b[0m \u001b[0mipygee\u001b[0m\u001b[1;33m\u001b[0m\u001b[1;33m\u001b[0m\u001b[0m\n\u001b[0m",
      "\u001b[1;32md:\\program\\python\\lib\\site-packages\\ipygee\\__init__.py\u001b[0m in \u001b[0;36m<module>\u001b[1;34m\u001b[0m\n\u001b[0;32m      5\u001b[0m \u001b[1;33m\u001b[0m\u001b[0m\n\u001b[0;32m      6\u001b[0m \u001b[1;32mfrom\u001b[0m \u001b[1;33m.\u001b[0m\u001b[0m_version\u001b[0m \u001b[1;32mimport\u001b[0m \u001b[0m__version__\u001b[0m\u001b[1;33m\u001b[0m\u001b[1;33m\u001b[0m\u001b[0m\n\u001b[1;32m----> 7\u001b[1;33m \u001b[1;32mfrom\u001b[0m \u001b[1;33m.\u001b[0m\u001b[0mmap\u001b[0m \u001b[1;32mimport\u001b[0m \u001b[0mMap\u001b[0m\u001b[1;33m\u001b[0m\u001b[1;33m\u001b[0m\u001b[0m\n\u001b[0m\u001b[0;32m      8\u001b[0m \u001b[1;32mfrom\u001b[0m \u001b[1;33m.\u001b[0m\u001b[0massets\u001b[0m \u001b[1;32mimport\u001b[0m \u001b[0mAssetManager\u001b[0m\u001b[1;33m\u001b[0m\u001b[1;33m\u001b[0m\u001b[0m\n\u001b[0;32m      9\u001b[0m \u001b[1;32mfrom\u001b[0m \u001b[1;33m.\u001b[0m\u001b[0mtasks\u001b[0m \u001b[1;32mimport\u001b[0m \u001b[0mTaskManager\u001b[0m\u001b[1;33m\u001b[0m\u001b[1;33m\u001b[0m\u001b[0m\n",
      "\u001b[1;32md:\\program\\python\\lib\\site-packages\\ipygee\\map.py\u001b[0m in \u001b[0;36m<module>\u001b[1;34m\u001b[0m\n\u001b[0;32m      3\u001b[0m \u001b[1;34m\"\"\" Display an interactive Map for Google Earth Engine using ipyleaflet \"\"\"\u001b[0m\u001b[1;33m\u001b[0m\u001b[1;33m\u001b[0m\u001b[0m\n\u001b[0;32m      4\u001b[0m \u001b[1;33m\u001b[0m\u001b[0m\n\u001b[1;32m----> 5\u001b[1;33m \u001b[1;32mimport\u001b[0m \u001b[0mee\u001b[0m\u001b[1;33m\u001b[0m\u001b[1;33m\u001b[0m\u001b[0m\n\u001b[0m\u001b[0;32m      6\u001b[0m \u001b[1;32mimport\u001b[0m \u001b[0mipyleaflet\u001b[0m\u001b[1;33m\u001b[0m\u001b[1;33m\u001b[0m\u001b[0m\n\u001b[0;32m      7\u001b[0m \u001b[1;32mfrom\u001b[0m \u001b[0mipywidgets\u001b[0m \u001b[1;32mimport\u001b[0m \u001b[0mLayout\u001b[0m\u001b[1;33m,\u001b[0m \u001b[0mHTML\u001b[0m\u001b[1;33m,\u001b[0m \u001b[0mAccordion\u001b[0m\u001b[1;33m\u001b[0m\u001b[1;33m\u001b[0m\u001b[0m\n",
      "\u001b[1;31mModuleNotFoundError\u001b[0m: No module named 'ee'"
     ]
    }
   ],
   "source": [
    "import ipygee"
   ]
  },
  {
   "cell_type": "code",
   "execution_count": null,
   "metadata": {},
   "outputs": [],
   "source": []
  },
  {
   "cell_type": "code",
   "execution_count": null,
   "metadata": {},
   "outputs": [],
   "source": []
  }
 ],
 "metadata": {
  "kernelspec": {
   "display_name": "Python 3",
   "language": "python",
   "name": "python3"
  },
  "language_info": {
   "codemirror_mode": {
    "name": "ipython",
    "version": 3
   },
   "file_extension": ".py",
   "mimetype": "text/x-python",
   "name": "python",
   "nbconvert_exporter": "python",
   "pygments_lexer": "ipython3",
   "version": "3.7.6"
  }
 },
 "nbformat": 4,
 "nbformat_minor": 4
}
