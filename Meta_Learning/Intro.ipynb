{
 "cells": [
  {
   "cell_type": "markdown",
   "metadata": {},
   "source": [
    "# basic terms"
   ]
  },
  {
   "cell_type": "markdown",
   "metadata": {},
   "source": [
    "\n",
    "Tranining Task No.1:\n",
    "- support set : training inside a task\n",
    "- query set : validating inside a task\n",
    "\n",
    "Tranining Task No.2:\n",
    "- support set : training inside a task\n",
    "- query set : validating inside a task\n",
    "\n",
    "...\n",
    "\n",
    "=============================\n",
    "\n",
    "Testing Task No.1:\n",
    "- support set : training inside a task\n",
    "- query set : validating inside a task\n",
    "\n",
    "Testing Task No.2:\n",
    "- support set : training inside a task\n",
    "- query set : validating inside a task\n",
    "\n",
    "...\n"
   ]
  },
  {
   "cell_type": "code",
   "execution_count": null,
   "metadata": {},
   "outputs": [],
   "source": []
  }
 ],
 "metadata": {
  "kernelspec": {
   "display_name": "Python 3",
   "language": "python",
   "name": "python3"
  },
  "language_info": {
   "codemirror_mode": {
    "name": "ipython",
    "version": 3
   },
   "file_extension": ".py",
   "mimetype": "text/x-python",
   "name": "python",
   "nbconvert_exporter": "python",
   "pygments_lexer": "ipython3",
   "version": "3.7.6"
  }
 },
 "nbformat": 4,
 "nbformat_minor": 4
}
