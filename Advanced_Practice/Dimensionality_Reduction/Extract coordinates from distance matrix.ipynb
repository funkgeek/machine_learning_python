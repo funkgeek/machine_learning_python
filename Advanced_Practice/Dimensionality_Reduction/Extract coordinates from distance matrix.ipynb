{
 "cells": [
  {
   "cell_type": "markdown",
   "metadata": {},
   "source": [
    "https://stackoverflow.com/questions/18096783/using-distance-matrix-to-find-coordinate-points-of-set-of-points\n",
    "https://math.stackexchange.com/questions/156161/finding-the-coordinates-of-points-from-distance-matrix"
   ]
  },
  {
   "cell_type": "code",
   "execution_count": null,
   "metadata": {},
   "outputs": [],
   "source": [
    "import numpy as np"
   ]
  },
  {
   "cell_type": "code",
   "execution_count": 4,
   "metadata": {},
   "outputs": [],
   "source": [
    "D = [[0,11,5,12,7,13,9,11],\n",
    "[11,0,13,2,17,4,15,20],\n",
    "[5,13,0,14,1,15,12,12],\n",
    "[12,2,14,0,18,5,16,21],\n",
    "[7,17,1,18,0,20,15,17],\n",
    "[13,4,15,5,20,0,19,22],\n",
    "[9,15,12,16,15,19,0,30],\n",
    "[11,20,12,21,17,22,30,0]]"
   ]
  },
  {
   "cell_type": "code",
   "execution_count": 15,
   "metadata": {},
   "outputs": [],
   "source": [
    "M=np.zeros_like(D, float)"
   ]
  },
  {
   "cell_type": "code",
   "execution_count": 17,
   "metadata": {},
   "outputs": [],
   "source": [
    "for i in range(8):\n",
    "    for j in range(8):\n",
    "        d_1j=D[0][j]\n",
    "        d_i1=D[i][0]\n",
    "        d_ij=D[i][j]\n",
    "        M[i][j]=1/2*(d_1j**2+d_i1**2-d_ij**2)"
   ]
  },
  {
   "cell_type": "code",
   "execution_count": 18,
   "metadata": {},
   "outputs": [
    {
     "data": {
      "text/plain": [
       "array([[   0. ,    0. ,    0. ,    0. ,    0. ,    0. ,    0. ,    0. ],\n",
       "       [   0. ,  121. ,  -11.5,  130.5,  -59.5,  137. ,  -11.5,  -79. ],\n",
       "       [   0. ,  -11.5,   25. ,  -13.5,   36.5,  -15.5,  -19. ,    1. ],\n",
       "       [   0. ,  130.5,  -13.5,  144. ,  -65.5,  144. ,  -15.5,  -88. ],\n",
       "       [   0. ,  -59.5,   36.5,  -65.5,   49. ,  -91. ,  -47.5,  -59.5],\n",
       "       [   0. ,  137. ,  -15.5,  144. ,  -91. ,  169. ,  -55.5,  -97. ],\n",
       "       [   0. ,  -11.5,  -19. ,  -15.5,  -47.5,  -55.5,   81. , -349. ],\n",
       "       [   0. ,  -79. ,    1. ,  -88. ,  -59.5,  -97. , -349. ,  121. ]])"
      ]
     },
     "execution_count": 18,
     "metadata": {},
     "output_type": "execute_result"
    }
   ],
   "source": [
    "M"
   ]
  },
  {
   "cell_type": "code",
   "execution_count": 37,
   "metadata": {},
   "outputs": [],
   "source": [
    "eigVal, eigVec = np.linalg.eig(M)#求特征值及特征向量\n"
   ]
  },
  {
   "cell_type": "code",
   "execution_count": 38,
   "metadata": {},
   "outputs": [
    {
     "data": {
      "text/plain": [
       "array([[0., 0., 0., 0.],\n",
       "       [0., 0., 0., 0.],\n",
       "       [0., 0., 0., 0.],\n",
       "       [0., 0., 0., 0.],\n",
       "       [0., 0., 0., 0.],\n",
       "       [0., 0., 0., 0.],\n",
       "       [0., 0., 0., 0.],\n",
       "       [0., 0., 0., 0.]])"
      ]
     },
     "execution_count": 38,
     "metadata": {},
     "output_type": "execute_result"
    }
   ],
   "source": [
    "out=np.zeros((8, 4))\n",
    "\n",
    "out"
   ]
  },
  {
   "cell_type": "code",
   "execution_count": 42,
   "metadata": {},
   "outputs": [
    {
     "data": {
      "text/plain": [
       "array([ -8.48963846, -23.49639791, -10.93447882, 223.57338762,\n",
       "       -83.12626533, 312.26652261,  22.88966511,   0.        ])"
      ]
     },
     "execution_count": 42,
     "metadata": {},
     "output_type": "execute_result"
    }
   ],
   "source": [
    "eigVal[2]*eigVec[2]\n"
   ]
  },
  {
   "cell_type": "code",
   "execution_count": null,
   "metadata": {},
   "outputs": [],
   "source": [
    "out[:,1]=eigVal[3]*eigVec[3],\n",
    "out[:,2]=eigVal[4]*eigVec[4],\n",
    "out[:,3]=eigVal[6]*eigVec[6]"
   ]
  },
  {
   "cell_type": "code",
   "execution_count": null,
   "metadata": {},
   "outputs": [],
   "source": []
  }
 ],
 "metadata": {
  "kernelspec": {
   "display_name": "Python 3",
   "language": "python",
   "name": "python3"
  },
  "language_info": {
   "codemirror_mode": {
    "name": "ipython",
    "version": 3
   },
   "file_extension": ".py",
   "mimetype": "text/x-python",
   "name": "python",
   "nbconvert_exporter": "python",
   "pygments_lexer": "ipython3",
   "version": "3.7.6"
  }
 },
 "nbformat": 4,
 "nbformat_minor": 4
}
