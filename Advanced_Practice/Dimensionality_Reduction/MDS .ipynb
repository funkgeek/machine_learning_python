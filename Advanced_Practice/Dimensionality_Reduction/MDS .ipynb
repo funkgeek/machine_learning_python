{
 "cells": [
  {
   "cell_type": "markdown",
   "metadata": {},
   "source": [
    "https://blog.csdn.net/zhangweiguo_717/article/details/69663452 \n",
    "\n",
    "https://github.com/heucoder/dimensionality_reduction_alo_codes/tree/master/codes/MDS "
   ]
  },
  {
   "cell_type": "code",
   "execution_count": 102,
   "metadata": {},
   "outputs": [],
   "source": [
    "import numpy as np\n",
    "    \n",
    "def D2B(D):\n",
    "    D = np.asarray(D)\n",
    "    DSquare = D ** 2\n",
    "    totalMean = np.mean(DSquare)\n",
    "    columnMean = np.mean(DSquare, axis = 0)\n",
    "    rowMean = np.mean(DSquare, axis = 1)\n",
    "    B = np.zeros(DSquare.shape)\n",
    "    for i in range(B.shape[0]):\n",
    "        for j in range(B.shape[1]):\n",
    "            B[i][j] = -0.5 * (DSquare[i][j] - rowMean[i] - columnMean[j] + totalMean)\n",
    "    return B\n",
    "\n",
    "\n",
    "def MDS(D,d):\n",
    "    B = D2B(D)\n",
    "    eigVal, eigVec = np.linalg.eig(B)#求特征值及特征向量\n",
    "    #对特征值进行排序，得到排序索引\n",
    "    eigValSorted_indices = np.argsort(eigVal)\n",
    "    #提取d个最大特征向量\n",
    "    topd_eigVec = eigVec[:,eigValSorted_indices[:-d-1:-1]] #-d-1前加:才能向左切\n",
    "    X = np.dot(topd_eigVec, np.sqrt(np.diag(eigVal[:-d-1:-1])))\n",
    "    return X\n"
   ]
  },
  {
   "cell_type": "code",
   "execution_count": 103,
   "metadata": {},
   "outputs": [
    {
     "data": {
      "text/plain": [
       "[[0, 11, 5, 12, 7, 13, 9, 11],\n",
       " [11, 0, 13, 2, 17, 4, 15, 20],\n",
       " [5, 13, 0, 14, 1, 15, 12, 12],\n",
       " [12, 2, 14, 0, 18, 5, 16, 21],\n",
       " [7, 17, 1, 18, 0, 20, 15, 17],\n",
       " [13, 4, 15, 5, 20, 0, 19, 22],\n",
       " [9, 15, 12, 16, 15, 19, 0, 30],\n",
       " [11, 20, 12, 21, 17, 22, 30, 0]]"
      ]
     },
     "execution_count": 103,
     "metadata": {},
     "output_type": "execute_result"
    }
   ],
   "source": [
    "# D = [[0,587,1212,701,1936,604,748,2139,2182,543],\n",
    "# [587,0,920,940,1745,1188,713,1858,1737,597],\n",
    "# [1212,920,0,879,831,1726,1631,949,1021,1494],\n",
    "# [701,940,879,0,1374,968,1420,1645,1891,1220],\n",
    "# [1936,1745,831,1374,0,2339,2451,347,959,2300],\n",
    "# [604,1188,1726,968,2339,0,1092,2594,2734,923],\n",
    "# [748,713,1631,1420,2451,1092,0,2571,2408,205],\n",
    "# [2139,1858,949,1645,347,2594,2571,0,678,2442],\n",
    "# [2182,1737,1021,1891,959,2734,2408,678,0,2329],\n",
    "# [543,597,1494,1220,2300,923,205,2442,2329,0]]\n",
    "\n",
    "DM = [[0,11,5,12,7,13,9,11],\n",
    "[11,0,13,2,17,4,15,20],\n",
    "[5,13,0,14,1,15,12,12],\n",
    "[12,2,14,0,18,5,16,21],\n",
    "[7,17,1,18,0,20,15,17],\n",
    "[13,4,15,5,20,0,19,22],\n",
    "[9,15,12,16,15,19,0,30],\n",
    "[11,20,12,21,17,22,30,0]]\n",
    "\n",
    "# DM = [[0,1,2,3,4,5,6,7],\n",
    "# [1,0,1,2,3,4,5,6],\n",
    "# [2,1,0,1,2,3,4,5],\n",
    "# [3,2,1,0,1,2,3,4],\n",
    "# [4,3,2,1,0,1,2,3],\n",
    "# [5,4,3,2,1,0,1,2],\n",
    "# [6,5,4,3,2,1,0,1],\n",
    "# [7,6,5,4,3,2,1,0]]\n",
    "\n",
    "\n",
    "DM"
   ]
  },
  {
   "cell_type": "code",
   "execution_count": 104,
   "metadata": {},
   "outputs": [
    {
     "name": "stderr",
     "output_type": "stream",
     "text": [
      "d:\\program\\python\\lib\\site-packages\\ipykernel_launcher.py:23: RuntimeWarning: invalid value encountered in sqrt\n"
     ]
    },
    {
     "data": {
      "text/plain": [
       "array([[-0.09628835,         nan],\n",
       "       [ 0.20654759,         nan],\n",
       "       [-0.15530087,         nan],\n",
       "       [ 0.23198924,         nan],\n",
       "       [-0.18642594,         nan],\n",
       "       [ 0.23300712,         nan],\n",
       "       [ 0.44626964,         nan],\n",
       "       [-0.67979843,         nan]])"
      ]
     },
     "execution_count": 104,
     "metadata": {},
     "output_type": "execute_result"
    }
   ],
   "source": [
    "X = MDS(DM,2)\n",
    "\n",
    "X"
   ]
  },
  {
   "cell_type": "code",
   "execution_count": null,
   "metadata": {},
   "outputs": [],
   "source": []
  },
  {
   "cell_type": "code",
   "execution_count": 105,
   "metadata": {},
   "outputs": [],
   "source": [
    "\n",
    "# D=np.array([[0,411,213,219,296,397],\n",
    "#             [411,0,204,203,120,152],\n",
    "#             [213,204,0,73,136,245],\n",
    "#             [219,203,73,0,90,191],\n",
    "#             [296,120,136,90,0,109],\n",
    "#             [ 397,152,245,191,109,0]])\n",
    "\n",
    "D=np.array([[0,11,5,12,7,13,9,11],\n",
    "[11,0,13,2,17,4,15,20],\n",
    "[5,13,0,14,1,15,12,12],\n",
    "[12,2,14,0,18,5,16,21],\n",
    "[7,17,1,18,0,20,15,17],\n",
    "[13,4,15,5,20,0,19,22],\n",
    "[9,15,12,16,15,19,0,30],\n",
    "[11,20,12,21,17,22,30,0]])\n"
   ]
  },
  {
   "cell_type": "code",
   "execution_count": 134,
   "metadata": {},
   "outputs": [
    {
     "name": "stdout",
     "output_type": "stream",
     "text": [
      "original distance \tnew distance\n",
      "11 \t\t 11.1509\n",
      "5 \t\t 1.9924\n",
      "12 \t\t 12.0990\n",
      "7 \t\t 5.7597\n",
      "13 \t\t 13.9689\n",
      "9 \t\t 14.5169\n",
      "11 \t\t 15.4821\n",
      "13 \t\t 13.1381\n",
      "2 \t\t 0.9481\n",
      "17 \t\t 16.7195\n",
      "4 \t\t 3.1120\n",
      "15 \t\t 16.3902\n",
      "20 \t\t 20.9837\n",
      "14 \t\t 14.0860\n",
      "1 \t\t 3.9962\n",
      "15 \t\t 15.9317\n",
      "12 \t\t 15.1980\n",
      "12 \t\t 15.0122\n",
      "18 \t\t 17.6633\n",
      "5 \t\t 2.3152\n",
      "16 \t\t 16.8909\n",
      "21 \t\t 21.6463\n",
      "20 \t\t 19.6372\n",
      "15 \t\t 15.0131\n",
      "17 \t\t 17.0227\n",
      "19 \t\t 19.1059\n",
      "22 \t\t 22.0291\n",
      "30 \t\t 29.9980\n"
     ]
    }
   ],
   "source": [
    "import numpy as np\n",
    "\n",
    "d_reduced=2\n",
    "\n",
    "N = D.shape[0]\n",
    "T = np.zeros((N,N))\n",
    "\n",
    "#solution 1\n",
    "#ss = 1.0/N**2*np.sum(D**2)\n",
    "#for i in range(N):\n",
    "#    for j in range(i,N):       \n",
    "#        T[i,j] = T[j,i] = -0.5*(D[i,j]**2 -1.0/N*np.dot(D[i,:],D[i,:]) -1.0/N*np.dot(D[:,j],D[:,j])+ss)\n",
    "\n",
    "#solution 2\n",
    "#K = np.dot(D,np.transpose(D))\n",
    "D2 = D**2\n",
    "H = np.eye(N) - 1/N\n",
    "T = -0.5*np.dot(np.dot(H,D2),H)\n",
    "\n",
    "eigVal,eigVec = np.linalg.eig(T) \n",
    "X = np.dot(eigVec[:,:d_reduced],np.diag(np.sqrt(eigVal[:d_reduced]))) \n",
    "\n",
    "print('original distance','\\tnew distance')\n",
    "for i in range(N):\n",
    "    for j in range(i+1,N):\n",
    "        print(np.str(D[i,j]),'\\t\\t',np.str(\"%.4f\"%np.linalg.norm(X[i]-X[j])))\n"
   ]
  },
  {
   "cell_type": "code",
   "execution_count": null,
   "metadata": {},
   "outputs": [],
   "source": []
  },
  {
   "cell_type": "code",
   "execution_count": 107,
   "metadata": {},
   "outputs": [
    {
     "data": {
      "text/plain": [
       "(100, 2)"
      ]
     },
     "execution_count": 107,
     "metadata": {},
     "output_type": "execute_result"
    }
   ],
   "source": [
    "from sklearn.datasets import load_digits\n",
    "from sklearn.manifold import MDS\n",
    "X, _ = load_digits(return_X_y=True)\n",
    "X.shape\n",
    "embedding = MDS(n_components=2)\n",
    "X_transformed = embedding.fit_transform(X[:100])\n",
    "X_transformed.shape"
   ]
  },
  {
   "cell_type": "code",
   "execution_count": 108,
   "metadata": {},
   "outputs": [],
   "source": []
  },
  {
   "cell_type": "code",
   "execution_count": 116,
   "metadata": {},
   "outputs": [],
   "source": [
    "def my_mds(data, n_dims):\n",
    "    '''\n",
    "    :param data: (n_samples, n_features)\n",
    "    :param n_dims: target n_dims\n",
    "    :return: (n_samples, n_dims)\n",
    "    '''\n",
    "\n",
    "    n, n = data.shape\n",
    "    dist = data\n",
    "    print(dist.shape)\n",
    "    dist[dist < 0 ] = 0\n",
    "    T1 = np.ones((n,n))*np.sum(dist)/n**2\n",
    "    T2 = np.sum(dist, axis = 1, keepdims=True)/n\n",
    "    T3 = np.sum(dist, axis = 0, keepdims=True)/n\n",
    "\n",
    "    B = -(T1 - T2 - T3 + dist)/2\n",
    "\n",
    "    eig_val, eig_vector = np.linalg.eig(B)\n",
    "    index_ = np.argsort(-eig_val)[:n_dims]\n",
    "    picked_eig_val = eig_val[index_].real\n",
    "    picked_eig_vector = eig_vector[:, index_]\n",
    "    # print(picked_eig_vector.shape, picked_eig_val.shape)\n",
    "    return picked_eig_vector*picked_eig_val**(0.5)\n"
   ]
  },
  {
   "cell_type": "code",
   "execution_count": 121,
   "metadata": {},
   "outputs": [],
   "source": [
    "from sklearn.datasets import load_iris\n",
    "D=np.array([[0,11,5,12,7,13,9,11],\n",
    "[11,0,13,2,17,4,15,20],\n",
    "[5,13,0,14,1,15,12,12],\n",
    "[12,2,14,0,18,5,16,21],\n",
    "[7,17,1,18,0,20,15,17],\n",
    "[13,4,15,5,20,0,19,22],\n",
    "[9,15,12,16,15,19,0,30],\n",
    "[11,20,12,21,17,22,30,0]])\n"
   ]
  },
  {
   "cell_type": "code",
   "execution_count": 131,
   "metadata": {},
   "outputs": [
    {
     "name": "stdout",
     "output_type": "stream",
     "text": [
      "(8, 8)\n"
     ]
    },
    {
     "data": {
      "text/plain": [
       "array([[-8.84816047e-01,  2.58868830e-01, -7.51577517e-01,\n",
       "        -4.08441956e-01, -1.02038597e+00, -3.07004795e-02,\n",
       "        -3.55506757e-02, -4.59876586e-09],\n",
       "       [ 1.85432373e+00, -3.19262107e-01,  1.65282942e-01,\n",
       "         4.87679499e-01, -2.27419721e-02, -7.54147188e-01,\n",
       "        -1.22596832e-02, -4.59876586e-09],\n",
       "       [-1.46712611e+00,  3.16030066e-01,  8.38763112e-01,\n",
       "        -3.04242312e-02,  3.82181188e-01,  6.01347451e-02,\n",
       "        -1.36154862e-01, -4.59876586e-09],\n",
       "       [ 1.95084927e+00, -3.43476549e-01,  1.99980162e-01,\n",
       "         8.77868476e-01, -2.12489401e-01,  5.87706453e-01,\n",
       "        -3.90129982e-03, -4.59876586e-09],\n",
       "       [-1.84705085e+00,  6.79032286e-01,  1.44286973e+00,\n",
       "         1.20398521e-01, -1.35735706e-01, -4.01983307e-02,\n",
       "         1.04447769e-01, -4.59876586e-09],\n",
       "       [ 2.05901434e+00, -6.11164819e-01,  4.06328831e-01,\n",
       "        -1.23908845e+00,  2.11625293e-01,  1.27287240e-01,\n",
       "         2.25139770e-02, -4.59876586e-09],\n",
       "       [ 3.15333502e-02,  2.60451707e+00, -1.27753130e+00,\n",
       "         4.42824905e-02,  4.52089673e-01,  3.54860656e-02,\n",
       "         2.83722566e-02, -4.59876586e-09],\n",
       "       [-1.69672769e+00, -2.58454478e+00, -1.02411596e+00,\n",
       "         1.47725656e-01,  3.45456894e-01,  1.44314939e-02,\n",
       "         3.25325178e-02, -4.59876586e-09]])"
      ]
     },
     "execution_count": 131,
     "metadata": {},
     "output_type": "execute_result"
    }
   ],
   "source": [
    "data_1 = my_mds(D, 8)\n",
    "data_1"
   ]
  },
  {
   "cell_type": "code",
   "execution_count": null,
   "metadata": {},
   "outputs": [],
   "source": []
  },
  {
   "cell_type": "code",
   "execution_count": 135,
   "metadata": {},
   "outputs": [],
   "source": [
    "def cal_B(D):\n",
    "    (n1, n2) = D.shape\n",
    "    DD = np.square(D)                    # 矩阵D 所有元素平方\n",
    "    Di = np.sum(DD, axis=1) / n1         # 计算dist(i.)^2\n",
    "    Dj = np.sum(DD, axis=0) / n1         # 计算dist(.j)^2\n",
    "    Dij = np.sum(DD) / (n1 ** 2)         # 计算dist(ij)^2\n",
    "    B = np.zeros((n1, n1))\n",
    "    for i in range(n1):\n",
    "        for j in range(n2):\n",
    "            B[i, j] = (Dij + DD[i, j] - Di[i] - Dj[j]) / (-2)   # 计算b(ij)\n",
    "    return B"
   ]
  },
  {
   "cell_type": "code",
   "execution_count": 146,
   "metadata": {},
   "outputs": [],
   "source": [
    "def MDS(D, n):\n",
    "    B = cal_B(D)\n",
    "    Be, Bv = np.linalg.eigh(B)             # Be矩阵B的特征值，Bv归一化的特征向量\n",
    "    # print numpy.sum(B-numpy.dot(numpy.dot(Bv,numpy.diag(Be)),Bv.T))\n",
    "    Be_sort = np.argsort(-Be)\n",
    "    Be = Be[Be_sort]                          # 特征值从大到小排序\n",
    "    Bv = Bv[:, Be_sort]                       # 归一化特征向量\n",
    "    Bez = np.diag(Be[0:n])                 # 前n个特征值对角矩阵\n",
    "    # print Bez\n",
    "    Bvz = Bv[:, 0:n]                          # 前n个归一化特征向量\n",
    "    Z = np.dot(np.sqrt(Bez), Bvz.T).T\n",
    "    # print(Z)\n",
    "    return Z"
   ]
  },
  {
   "cell_type": "code",
   "execution_count": 147,
   "metadata": {},
   "outputs": [],
   "source": [
    "D=np.array([[0,11,5,12,7,13,9,11],\n",
    "[11,0,13,2,17,4,15,20],\n",
    "[5,13,0,14,1,15,12,12],\n",
    "[12,2,14,0,18,5,16,21],\n",
    "[7,17,1,18,0,20,15,17],\n",
    "[13,4,15,5,20,0,19,22],\n",
    "[9,15,12,16,15,19,0,30],\n",
    "[11,20,12,21,17,22,30,0]])\n",
    "\n"
   ]
  },
  {
   "cell_type": "code",
   "execution_count": 145,
   "metadata": {},
   "outputs": [
    {
     "data": {
      "text/plain": [
       "array([[-2.27376653e+00,  2.86337203e+00, -3.64048874e+00,\n",
       "         3.20279834e-01, -7.84745019e-02],\n",
       "       [ 4.87744340e+00, -5.69243782e+00,  2.32276048e-01,\n",
       "        -9.26669561e-01,  7.58012457e-01],\n",
       "       [-3.66729633e+00,  4.28734962e+00,  1.36202129e+00,\n",
       "         8.18788234e-01, -6.37362589e-02],\n",
       "       [ 5.47822616e+00, -6.42593635e+00,  5.69202334e-01,\n",
       "        -2.26075289e+00, -5.21981848e-01],\n",
       "       [-4.40228801e+00,  8.21535769e+00,  3.62569583e+00,\n",
       "        -3.57450664e-01,  2.83641696e-02],\n",
       "       [ 5.50226256e+00, -8.74106092e+00,  9.89014866e-01,\n",
       "         2.61501071e+00, -1.47119449e-01],\n",
       "       [ 1.05382734e+01,  9.68920616e+00, -1.78193529e+00,\n",
       "         4.94619922e-02,  3.19058458e-03],\n",
       "       [-1.60528546e+01, -4.19585041e+00, -1.35578633e+00,\n",
       "        -2.58667657e-01,  2.17448464e-02]])"
      ]
     },
     "execution_count": 145,
     "metadata": {},
     "output_type": "execute_result"
    }
   ],
   "source": [
    "Z=MDS(D,5)\n",
    "Z"
   ]
  },
  {
   "cell_type": "code",
   "execution_count": null,
   "metadata": {},
   "outputs": [],
   "source": []
  }
 ],
 "metadata": {
  "kernelspec": {
   "display_name": "Python 3",
   "language": "python",
   "name": "python3"
  },
  "language_info": {
   "codemirror_mode": {
    "name": "ipython",
    "version": 3
   },
   "file_extension": ".py",
   "mimetype": "text/x-python",
   "name": "python",
   "nbconvert_exporter": "python",
   "pygments_lexer": "ipython3",
   "version": "3.7.6"
  }
 },
 "nbformat": 4,
 "nbformat_minor": 4
}
