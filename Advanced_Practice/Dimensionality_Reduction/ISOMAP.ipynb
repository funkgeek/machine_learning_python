{
 "cells": [
  {
   "cell_type": "markdown",
   "metadata": {},
   "source": [
    "https://blog.csdn.net/zhangweiguo_717/article/details/69802312 \n",
    "https://github.com/heucoder/dimensionality_reduction_alo_codes/tree/master/codes/ISOMAP "
   ]
  },
  {
   "cell_type": "code",
   "execution_count": 5,
   "metadata": {},
   "outputs": [],
   "source": [
    "import numpy as np"
   ]
  },
  {
   "cell_type": "code",
   "execution_count": 6,
   "metadata": {},
   "outputs": [],
   "source": [
    "def cal_B(D):\n",
    "    (n1, n2) = D.shape\n",
    "    DD = np.square(D)                    # 矩阵D 所有元素平方\n",
    "    Di = np.sum(DD, axis=1) / n1         # 计算dist(i.)^2\n",
    "    Dj = np.sum(DD, axis=0) / n1         # 计算dist(.j)^2\n",
    "    Dij = np.sum(DD) / (n1 ** 2)         # 计算dist(ij)^2\n",
    "    B = np.zeros((n1, n1))\n",
    "    for i in range(n1):\n",
    "        for j in range(n2):\n",
    "            B[i, j] = (Dij + DD[i, j] - Di[i] - Dj[j]) / (-2)   # 计算b(ij)\n",
    "    return B"
   ]
  },
  {
   "cell_type": "code",
   "execution_count": 10,
   "metadata": {},
   "outputs": [],
   "source": [
    "def MDS(D, n):\n",
    "    B = cal_B(D)\n",
    "    Be, Bv = np.linalg.eigh(B)             # Be矩阵B的特征值，Bv归一化的特征向量\n",
    "    # print numpy.sum(B-numpy.dot(numpy.dot(Bv,numpy.diag(Be)),Bv.T))\n",
    "    Be_sort = np.argsort(-Be)\n",
    "    Be = Be[Be_sort]                          # 特征值从大到小排序\n",
    "    Bv = Bv[:, Be_sort]                       # 归一化特征向量\n",
    "    Bez = np.diag(Be[0:n])                 # 前n个特征值对角矩阵\n",
    "    # print Bez\n",
    "    Bvz = Bv[:, 0:n]                          # 前n个归一化特征向量\n",
    "    Z = np.dot(np.sqrt(Bez), Bvz.T).T\n",
    "    # print(Z)\n",
    "    return Z"
   ]
  },
  {
   "cell_type": "code",
   "execution_count": 14,
   "metadata": {},
   "outputs": [],
   "source": [
    "# D=np.array([[0,11,5,12,7,13,9,11],\n",
    "# [11,0,13,2,17,4,15,20],\n",
    "# [5,13,0,14,1,15,12,12],\n",
    "# [12,2,14,0,18,5,16,21],\n",
    "# [7,17,1,18,0,20,15,17],\n",
    "# [13,4,15,5,20,0,19,22],\n",
    "# [9,15,12,16,15,19,0,30],\n",
    "# [11,20,12,21,17,22,30,0]])\n",
    "\n",
    "D=np.array([[0,1,2],\n",
    "[1,0,1],\n",
    "[2,1,0]])"
   ]
  },
  {
   "cell_type": "code",
   "execution_count": 22,
   "metadata": {},
   "outputs": [
    {
     "data": {
      "text/plain": [
       "array([[ 1.00000000e+00, -1.97055589e-08],\n",
       "       [ 1.57009246e-16, -2.99657209e-09],\n",
       "       [-1.00000000e+00, -1.97055589e-08]])"
      ]
     },
     "execution_count": 22,
     "metadata": {},
     "output_type": "execute_result"
    }
   ],
   "source": [
    "Z=MDS(D,2)\n",
    "Z"
   ]
  },
  {
   "cell_type": "code",
   "execution_count": null,
   "metadata": {},
   "outputs": [],
   "source": []
  },
  {
   "cell_type": "code",
   "execution_count": null,
   "metadata": {},
   "outputs": [],
   "source": []
  }
 ],
 "metadata": {
  "kernelspec": {
   "display_name": "Python 3",
   "language": "python",
   "name": "python3"
  },
  "language_info": {
   "codemirror_mode": {
    "name": "ipython",
    "version": 3
   },
   "file_extension": ".py",
   "mimetype": "text/x-python",
   "name": "python",
   "nbconvert_exporter": "python",
   "pygments_lexer": "ipython3",
   "version": "3.7.6"
  }
 },
 "nbformat": 4,
 "nbformat_minor": 4
}
