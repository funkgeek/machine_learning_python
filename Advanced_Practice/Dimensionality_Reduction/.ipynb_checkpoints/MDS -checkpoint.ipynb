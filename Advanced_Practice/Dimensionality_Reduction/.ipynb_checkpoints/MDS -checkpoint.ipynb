{
 "cells": [
  {
   "cell_type": "markdown",
   "metadata": {},
   "source": [
    "https://blog.csdn.net/zhangweiguo_717/article/details/69663452 \n",
    "\n",
    "https://github.com/heucoder/dimensionality_reduction_alo_codes/tree/master/codes/MDS "
   ]
  },
  {
   "cell_type": "code",
   "execution_count": 77,
   "metadata": {},
   "outputs": [],
   "source": [
    "import numpy as np\n",
    "    \n",
    "def D2B(D):\n",
    "    D = np.asarray(D)\n",
    "    DSquare = D ** 2\n",
    "    totalMean = np.mean(DSquare)\n",
    "    columnMean = np.mean(DSquare, axis = 0)\n",
    "    rowMean = np.mean(DSquare, axis = 1)\n",
    "    B = np.zeros(DSquare.shape)\n",
    "    for i in range(B.shape[0]):\n",
    "        for j in range(B.shape[1]):\n",
    "            B[i][j] = -0.5 * (DSquare[i][j] - rowMean[i] - columnMean[j] + totalMean)\n",
    "    return B\n",
    "\n",
    "\n",
    "def MDS(D,d):\n",
    "    B = D2B(D)\n",
    "    eigVal, eigVec = np.linalg.eig(B)#求特征值及特征向量\n",
    "    #对特征值进行排序，得到排序索引\n",
    "    eigValSorted_indices = np.argsort(eigVal)\n",
    "    #提取d个最大特征向量\n",
    "    topd_eigVec = eigVec[:,eigValSorted_indices[:-d-1:-1]] #-d-1前加:才能向左切\n",
    "    X = np.dot(topd_eigVec, np.sqrt(np.diag(eigVal[:-d-1:-1])))\n",
    "    return X\n"
   ]
  },
  {
   "cell_type": "code",
   "execution_count": 78,
   "metadata": {},
   "outputs": [
    {
     "data": {
      "text/plain": [
       "[[0, 11, 5, 12, 7, 13, 9, 11],\n",
       " [11, 0, 13, 2, 17, 4, 15, 20],\n",
       " [5, 13, 0, 14, 1, 15, 12, 12],\n",
       " [12, 2, 14, 0, 18, 5, 16, 21],\n",
       " [7, 17, 1, 18, 0, 20, 15, 17],\n",
       " [13, 4, 15, 5, 20, 0, 19, 22],\n",
       " [9, 15, 12, 16, 15, 19, 0, 30],\n",
       " [11, 20, 12, 21, 17, 22, 30, 0]]"
      ]
     },
     "execution_count": 78,
     "metadata": {},
     "output_type": "execute_result"
    }
   ],
   "source": [
    "# D = [[0,587,1212,701,1936,604,748,2139,2182,543],\n",
    "# [587,0,920,940,1745,1188,713,1858,1737,597],\n",
    "# [1212,920,0,879,831,1726,1631,949,1021,1494],\n",
    "# [701,940,879,0,1374,968,1420,1645,1891,1220],\n",
    "# [1936,1745,831,1374,0,2339,2451,347,959,2300],\n",
    "# [604,1188,1726,968,2339,0,1092,2594,2734,923],\n",
    "# [748,713,1631,1420,2451,1092,0,2571,2408,205],\n",
    "# [2139,1858,949,1645,347,2594,2571,0,678,2442],\n",
    "# [2182,1737,1021,1891,959,2734,2408,678,0,2329],\n",
    "# [543,597,1494,1220,2300,923,205,2442,2329,0]]\n",
    "\n",
    "DM = [[0,11,5,12,7,13,9,11],\n",
    "[11,0,13,2,17,4,15,20],\n",
    "[5,13,0,14,1,15,12,12],\n",
    "[12,2,14,0,18,5,16,21],\n",
    "[7,17,1,18,0,20,15,17],\n",
    "[13,4,15,5,20,0,19,22],\n",
    "[9,15,12,16,15,19,0,30],\n",
    "[11,20,12,21,17,22,30,0]]\n",
    "\n",
    "# DM = [[0,1,2,3,4,5,6,7],\n",
    "# [1,0,1,2,3,4,5,6],\n",
    "# [2,1,0,1,2,3,4,5],\n",
    "# [3,2,1,0,1,2,3,4],\n",
    "# [4,3,2,1,0,1,2,3],\n",
    "# [5,4,3,2,1,0,1,2],\n",
    "# [6,5,4,3,2,1,0,1],\n",
    "# [7,6,5,4,3,2,1,0]]\n",
    "\n",
    "DM"
   ]
  },
  {
   "cell_type": "code",
   "execution_count": 79,
   "metadata": {},
   "outputs": [
    {
     "ename": "TypeError",
     "evalue": "unsupported operand type(s) for ** or pow(): 'list' and 'int'",
     "output_type": "error",
     "traceback": [
      "\u001b[1;31m---------------------------------------------------------------------------\u001b[0m",
      "\u001b[1;31mTypeError\u001b[0m                                 Traceback (most recent call last)",
      "\u001b[1;32m<ipython-input-79-120ad9d25df6>\u001b[0m in \u001b[0;36m<module>\u001b[1;34m\u001b[0m\n\u001b[1;32m----> 1\u001b[1;33m \u001b[0mX\u001b[0m \u001b[1;33m=\u001b[0m \u001b[0mMDS\u001b[0m\u001b[1;33m(\u001b[0m\u001b[0mDM\u001b[0m\u001b[1;33m,\u001b[0m\u001b[1;36m2\u001b[0m\u001b[1;33m)\u001b[0m\u001b[1;33m\u001b[0m\u001b[1;33m\u001b[0m\u001b[0m\n\u001b[0m\u001b[0;32m      2\u001b[0m \u001b[1;33m\u001b[0m\u001b[0m\n\u001b[0;32m      3\u001b[0m \u001b[0mX\u001b[0m\u001b[1;33m\u001b[0m\u001b[1;33m\u001b[0m\u001b[0m\n",
      "\u001b[1;32m<ipython-input-77-a1eb5376db6a>\u001b[0m in \u001b[0;36mMDS\u001b[1;34m(D, d)\u001b[0m\n\u001b[0;32m     22\u001b[0m \u001b[1;33m\u001b[0m\u001b[0m\n\u001b[0;32m     23\u001b[0m \u001b[1;32mdef\u001b[0m \u001b[0mMDS\u001b[0m\u001b[1;33m(\u001b[0m\u001b[0mD\u001b[0m\u001b[1;33m,\u001b[0m\u001b[0md\u001b[0m\u001b[1;33m)\u001b[0m\u001b[1;33m:\u001b[0m\u001b[1;33m\u001b[0m\u001b[1;33m\u001b[0m\u001b[0m\n\u001b[1;32m---> 24\u001b[1;33m     \u001b[0mB\u001b[0m \u001b[1;33m=\u001b[0m \u001b[0mD2B\u001b[0m\u001b[1;33m(\u001b[0m\u001b[0mD\u001b[0m\u001b[1;33m)\u001b[0m\u001b[1;33m\u001b[0m\u001b[1;33m\u001b[0m\u001b[0m\n\u001b[0m\u001b[0;32m     25\u001b[0m     \u001b[0meigVal\u001b[0m\u001b[1;33m,\u001b[0m \u001b[0meigVec\u001b[0m \u001b[1;33m=\u001b[0m \u001b[0mnp\u001b[0m\u001b[1;33m.\u001b[0m\u001b[0mlinalg\u001b[0m\u001b[1;33m.\u001b[0m\u001b[0meig\u001b[0m\u001b[1;33m(\u001b[0m\u001b[0mB\u001b[0m\u001b[1;33m)\u001b[0m\u001b[1;31m#求特征值及特征向量\u001b[0m\u001b[1;33m\u001b[0m\u001b[1;33m\u001b[0m\u001b[0m\n\u001b[0;32m     26\u001b[0m     \u001b[1;31m#对特征值进行排序，得到排序索引\u001b[0m\u001b[1;33m\u001b[0m\u001b[1;33m\u001b[0m\u001b[1;33m\u001b[0m\u001b[0m\n",
      "\u001b[1;32m<ipython-input-77-a1eb5376db6a>\u001b[0m in \u001b[0;36mD2B\u001b[1;34m(D)\u001b[0m\n\u001b[0;32m     16\u001b[0m     \u001b[0mN\u001b[0m \u001b[1;33m=\u001b[0m \u001b[0mnp\u001b[0m\u001b[1;33m.\u001b[0m\u001b[0marray\u001b[0m\u001b[1;33m(\u001b[0m\u001b[0mD\u001b[0m\u001b[1;33m)\u001b[0m\u001b[1;33m.\u001b[0m\u001b[0mshape\u001b[0m\u001b[1;33m[\u001b[0m\u001b[1;36m0\u001b[0m\u001b[1;33m]\u001b[0m\u001b[1;33m\u001b[0m\u001b[1;33m\u001b[0m\u001b[0m\n\u001b[0;32m     17\u001b[0m     \u001b[0mT\u001b[0m \u001b[1;33m=\u001b[0m \u001b[0mnp\u001b[0m\u001b[1;33m.\u001b[0m\u001b[0mzeros\u001b[0m\u001b[1;33m(\u001b[0m\u001b[1;33m(\u001b[0m\u001b[0mN\u001b[0m\u001b[1;33m,\u001b[0m\u001b[0mN\u001b[0m\u001b[1;33m)\u001b[0m\u001b[1;33m)\u001b[0m\u001b[1;33m\u001b[0m\u001b[1;33m\u001b[0m\u001b[0m\n\u001b[1;32m---> 18\u001b[1;33m     \u001b[0mD2\u001b[0m \u001b[1;33m=\u001b[0m \u001b[0mD\u001b[0m\u001b[1;33m**\u001b[0m\u001b[1;36m2\u001b[0m\u001b[1;33m\u001b[0m\u001b[1;33m\u001b[0m\u001b[0m\n\u001b[0m\u001b[0;32m     19\u001b[0m     \u001b[0mH\u001b[0m \u001b[1;33m=\u001b[0m \u001b[0mnp\u001b[0m\u001b[1;33m.\u001b[0m\u001b[0meye\u001b[0m\u001b[1;33m(\u001b[0m\u001b[0mN\u001b[0m\u001b[1;33m)\u001b[0m \u001b[1;33m-\u001b[0m \u001b[1;36m1\u001b[0m\u001b[1;33m/\u001b[0m\u001b[0mN\u001b[0m\u001b[1;33m\u001b[0m\u001b[1;33m\u001b[0m\u001b[0m\n\u001b[0;32m     20\u001b[0m     \u001b[0mB\u001b[0m \u001b[1;33m=\u001b[0m \u001b[1;33m-\u001b[0m\u001b[1;36m0.5\u001b[0m\u001b[1;33m*\u001b[0m\u001b[0mnp\u001b[0m\u001b[1;33m.\u001b[0m\u001b[0mdot\u001b[0m\u001b[1;33m(\u001b[0m\u001b[0mnp\u001b[0m\u001b[1;33m.\u001b[0m\u001b[0mdot\u001b[0m\u001b[1;33m(\u001b[0m\u001b[0mH\u001b[0m\u001b[1;33m,\u001b[0m\u001b[0mD2\u001b[0m\u001b[1;33m)\u001b[0m\u001b[1;33m,\u001b[0m\u001b[0mH\u001b[0m\u001b[1;33m)\u001b[0m\u001b[1;33m\u001b[0m\u001b[1;33m\u001b[0m\u001b[0m\n",
      "\u001b[1;31mTypeError\u001b[0m: unsupported operand type(s) for ** or pow(): 'list' and 'int'"
     ]
    }
   ],
   "source": [
    "X = MDS(DM,2)\n",
    "\n",
    "X"
   ]
  },
  {
   "cell_type": "code",
   "execution_count": null,
   "metadata": {},
   "outputs": [],
   "source": []
  },
  {
   "cell_type": "code",
   "execution_count": null,
   "metadata": {},
   "outputs": [],
   "source": []
  },
  {
   "cell_type": "code",
   "execution_count": null,
   "metadata": {},
   "outputs": [],
   "source": []
  }
 ],
 "metadata": {
  "kernelspec": {
   "display_name": "Python 3",
   "language": "python",
   "name": "python3"
  },
  "language_info": {
   "codemirror_mode": {
    "name": "ipython",
    "version": 3
   },
   "file_extension": ".py",
   "mimetype": "text/x-python",
   "name": "python",
   "nbconvert_exporter": "python",
   "pygments_lexer": "ipython3",
   "version": "3.7.6"
  }
 },
 "nbformat": 4,
 "nbformat_minor": 4
}
