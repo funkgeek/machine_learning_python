{
 "cells": [
  {
   "cell_type": "code",
   "execution_count": null,
   "metadata": {},
   "outputs": [],
   "source": []
  },
  {
   "cell_type": "code",
   "execution_count": 175,
   "metadata": {},
   "outputs": [],
   "source": [
    "import matplotlib.pyplot as plt\n",
    "import numpy as np"
   ]
  },
  {
   "cell_type": "markdown",
   "metadata": {},
   "source": [
    "## Input points"
   ]
  },
  {
   "cell_type": "code",
   "execution_count": 176,
   "metadata": {},
   "outputs": [
    {
     "data": {
      "image/png": "[encoded data removed]",
      "text/plain": [
       "<Figure size 432x288 with 1 Axes>"
      ]
     },
     "metadata": {},
     "output_type": "display_data"
    }
   ],
   "source": [
    "points = np.array([ [17,12],[5,12],[17,14],[5,16],[20,15],[3,9],[12,3],[12,32]])\n",
    "plt.figure('Draw')\n",
    "plt.scatter(points[:,0],points[:,1]) \n",
    "plt.draw()\n",
    "plt.grid(True)\n",
    "plt.pause(5)  # 5 seconds\n",
    "plt.savefig(\"easyplot.jpg\")\n",
    "plt.close()"
   ]
  },
  {
   "cell_type": "code",
   "execution_count": 178,
   "metadata": {},
   "outputs": [],
   "source": [
    "def distance(point_a, point_b):\n",
    "    distance_x = abs(point_a[0] - point_b[0])\n",
    "    distance_y = abs(point_a[1] - point_b[1])\n",
    "    distance = np.sqrt(np.square(distance_x)+np.square(distance_y))\n",
    "    return distance"
   ]
  },
  {
   "cell_type": "code",
   "execution_count": 179,
   "metadata": {},
   "outputs": [],
   "source": [
    "def k_means_clustering(all_points, center_points):\n",
    "    num_points=all_points.shape[0]\n",
    "    num_centers=center_points.shape[0]\n",
    "    \n",
    "    clustered_orders = []\n",
    "    for c in range(num_centers):\n",
    "        clustered_orders.append([])\n",
    "    \n",
    "    for p in range(num_points):\n",
    "        distance_center = 9999999;\n",
    "        order_center = 0;\n",
    "        for c in range(num_centers):\n",
    "            distance_temp = distance(all_points[p], center_points[c]);\n",
    "            if(distance_temp<distance_center):\n",
    "                distance_center=distance_temp;\n",
    "                order_center=c;\n",
    "        clustered_orders[order_center].append(p)\n",
    "    \n",
    "    return clustered_orders"
   ]
  },
  {
   "cell_type": "code",
   "execution_count": 229,
   "metadata": {},
   "outputs": [],
   "source": [
    "def calculate_centers(clustered_orders):\n",
    "    res = []    \n",
    "    for i in range(len(clustered_orders)):\n",
    "        res.append([])\n",
    "    for c in range(len(clustered_orders)):\n",
    "        sum_x=0\n",
    "        sum_y=0\n",
    "        points_temp=points[clustered_orders[c]]\n",
    "        res[c]=np.mean(points_temp,axis=0).tolist()\n",
    "    return np.array(res)"
   ]
  },
  {
   "cell_type": "code",
   "execution_count": 269,
   "metadata": {},
   "outputs": [],
   "source": [
    "def test_center(center_points):\n",
    "    flag=True\n",
    "    i=0;\n",
    "    while(flag):\n",
    "        clustered_orders = k_means_clustering(points, center_points)\n",
    "        center_points_new = calculate_centers(clustered_orders)\n",
    "        i=i+1\n",
    "        print('===== After %d iter====='%(i))\n",
    "        print(clustered_orders)\n",
    "        print(center_points)\n",
    "        print(center_points_new)        \n",
    "        if((center_points==center_points_new).all()):\n",
    "            flag=False;\n",
    "        else:\n",
    "            center_points = center_points_new"
   ]
  },
  {
   "cell_type": "code",
   "execution_count": 270,
   "metadata": {},
   "outputs": [
    {
     "name": "stdout",
     "output_type": "stream",
     "text": [
      "===== After 1 iter=====\n",
      "[[0, 1, 2, 3, 4, 5, 6], [7]]\n",
      "[[12  3]\n",
      " [12 32]]\n",
      "[[11.28571429 11.57142857]\n",
      " [12.         32.        ]]\n",
      "===== After 2 iter=====\n",
      "[[0, 1, 2, 3, 4, 5, 6], [7]]\n",
      "[[11.28571429 11.57142857]\n",
      " [12.         32.        ]]\n",
      "[[11.28571429 11.57142857]\n",
      " [12.         32.        ]]\n"
     ]
    }
   ],
   "source": [
    "center_points = np.array([[12,3],[12,32]])\n",
    "\n",
    "test_center(center_points)"
   ]
  },
  {
   "cell_type": "code",
   "execution_count": 271,
   "metadata": {
    "scrolled": true
   },
   "outputs": [
    {
     "name": "stdout",
     "output_type": "stream",
     "text": [
      "===== After 1 iter=====\n",
      "[[1, 3, 5], [0, 2, 4, 6, 7]]\n",
      "[[ 5 12]\n",
      " [17 12]]\n",
      "[[ 4.33333333 12.33333333]\n",
      " [15.6        15.2       ]]\n",
      "===== After 2 iter=====\n",
      "[[1, 3, 5, 6], [0, 2, 4, 7]]\n",
      "[[ 4.33333333 12.33333333]\n",
      " [15.6        15.2       ]]\n",
      "[[ 6.25 10.  ]\n",
      " [16.5  18.25]]\n",
      "===== After 3 iter=====\n",
      "[[1, 3, 5, 6], [0, 2, 4, 7]]\n",
      "[[ 6.25 10.  ]\n",
      " [16.5  18.25]]\n",
      "[[ 6.25 10.  ]\n",
      " [16.5  18.25]]\n"
     ]
    }
   ],
   "source": [
    "center_points = np.array([[5,12],[17,12]])\n",
    "\n",
    "test_center(center_points)"
   ]
  },
  {
   "cell_type": "code",
   "execution_count": 272,
   "metadata": {},
   "outputs": [
    {
     "name": "stdout",
     "output_type": "stream",
     "text": [
      "===== After 1 iter=====\n",
      "[[0, 2, 4, 6], [7], [1, 3, 5]]\n",
      "[[12  3]\n",
      " [12 32]\n",
      " [ 5 12]]\n",
      "[[16.5        11.        ]\n",
      " [12.         32.        ]\n",
      " [ 4.33333333 12.33333333]]\n",
      "===== After 2 iter=====\n",
      "[[0, 2, 4, 6], [7], [1, 3, 5]]\n",
      "[[16.5        11.        ]\n",
      " [12.         32.        ]\n",
      " [ 4.33333333 12.33333333]]\n",
      "[[16.5        11.        ]\n",
      " [12.         32.        ]\n",
      " [ 4.33333333 12.33333333]]\n"
     ]
    }
   ],
   "source": [
    "center_points = np.array([[12,3],[12,32],[5,12]])\n",
    "\n",
    "test_center(center_points)"
   ]
  },
  {
   "cell_type": "code",
   "execution_count": 273,
   "metadata": {},
   "outputs": [
    {
     "name": "stdout",
     "output_type": "stream",
     "text": [
      "===== After 1 iter=====\n",
      "[[6], [7], [1, 3, 5], [0, 2, 4]]\n",
      "[[12  3]\n",
      " [12 32]\n",
      " [ 5 12]\n",
      " [17 12]]\n",
      "[[12.          3.        ]\n",
      " [12.         32.        ]\n",
      " [ 4.33333333 12.33333333]\n",
      " [18.         13.66666667]]\n",
      "===== After 2 iter=====\n",
      "[[6], [7], [1, 3, 5], [0, 2, 4]]\n",
      "[[12.          3.        ]\n",
      " [12.         32.        ]\n",
      " [ 4.33333333 12.33333333]\n",
      " [18.         13.66666667]]\n",
      "[[12.          3.        ]\n",
      " [12.         32.        ]\n",
      " [ 4.33333333 12.33333333]\n",
      " [18.         13.66666667]]\n"
     ]
    }
   ],
   "source": [
    "center_points = np.array([[12,3],[12,32],[5,12],[17,12]])\n",
    "\n",
    "test_center(center_points)"
   ]
  },
  {
   "cell_type": "code",
   "execution_count": null,
   "metadata": {},
   "outputs": [],
   "source": []
  },
  {
   "cell_type": "code",
   "execution_count": null,
   "metadata": {},
   "outputs": [],
   "source": []
  }
 ],
 "metadata": {
  "kernelspec": {
   "display_name": "Python 3",
   "language": "python",
   "name": "python3"
  },
  "language_info": {
   "codemirror_mode": {
    "name": "ipython",
    "version": 3
   },
   "file_extension": ".py",
   "mimetype": "text/x-python",
   "name": "python",
   "nbconvert_exporter": "python",
   "pygments_lexer": "ipython3",
   "version": "3.7.6"
  }
 },
 "nbformat": 4,
 "nbformat_minor": 4
}
